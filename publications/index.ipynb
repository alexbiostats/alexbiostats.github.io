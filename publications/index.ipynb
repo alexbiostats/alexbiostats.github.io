{
  "cells": [
    {
      "cell_type": "raw",
      "metadata": {},
      "source": [
        "---\n",
        "title: \"Publications\"\n",
        "toc: FALSE\n",
        "format:\n",
        "  html\n",
        "include-in-header:\n",
        "  text: <script src=\"https://bibbase.org/show?bib=https%3A%2F%2Falexbiostats.github.io%2Falex_publications.bib&commas=true&jsonp=1\"></script> \n",
        "---"
      ],
      "id": "9c085e4a"
    },
    {
      "cell_type": "markdown",
      "metadata": {},
      "source": [
        "Additional information may be found on my [Google Scholar](https://scholar.google.com/citations?user=ICpH74EAAAAJ&hl=en) page and [CV](/files/Alex_CV.pdf).\n",
        "\n",
        "\n",
        "<script src=\"https://bibbase.org/show?bib=https%3A%2F%2Falexbiostats.github.io%2Falex_publications.bib&commas=true&jsonp=1\"></script> \n",
        "\n",
        "\n",
        "```{js}\n",
        "<script src=\"https://bibbase.org/show?bib=https%3A%2F%2Falexbiostats.github.io%2Falex_publications.bib&commas=true&jsonp=1\"></script> \n",
        "```"
      ],
      "id": "80cd1b69"
    }
  ],
  "metadata": {
    "kernelspec": {
      "display_name": "Python 3",
      "language": "python",
      "name": "python3"
    }
  },
  "nbformat": 4,
  "nbformat_minor": 5
}